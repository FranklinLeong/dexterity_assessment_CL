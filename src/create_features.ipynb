{
 "cells": [
  {
   "cell_type": "code",
   "execution_count": 117,
   "metadata": {},
   "outputs": [
    {
     "name": "stdout",
     "output_type": "stream",
     "text": [
      "The autoreload extension is already loaded. To reload it, use:\n",
      "  %reload_ext autoreload\n"
     ]
    }
   ],
   "source": [
    "import pandas as pd\n",
    "import numpy as np\n",
    "from utils import *\n",
    "\n",
    "%load_ext autoreload\n",
    "%autoreload 2"
   ]
  },
  {
   "cell_type": "markdown",
   "metadata": {},
   "source": [
    "### Participant codes\n",
    "\n",
    "YH0040 : 18-34ans, Femme, Droitière\n",
    "\n",
    "YH0038 : 18-34ans, Femme, droitière\n",
    "\n",
    "YH0033 : 18-34ans, Femme, droitière\n",
    "\n",
    "OH0042 : 35-59ans, Homme, Gaucher, amputé (donc amputé du bras droit, prothèse cosmétique)\n",
    "\n",
    "YH0031 : 18-34ans, Homme, droitier\n",
    "\n",
    "OH0037 : 35-59 ans, Homme, Ambidextre\n",
    "\n",
    "OH0034 : 35-59ans, Homme, Gaucher, amputé (du bras droit, possède une prothèse myoélectrique)\n",
    "\n",
    "OH0029 : 60-80ans, Femme, Droitière\n",
    "\n",
    "OH0025 : 35-59ans, Femme, Droitière, amputé (du bras gauche, prothèse cosmétique)"
   ]
  },
  {
   "cell_type": "markdown",
   "metadata": {},
   "source": [
    "# Primary features"
   ]
  },
  {
   "cell_type": "code",
   "execution_count": 14,
   "metadata": {},
   "outputs": [],
   "source": [
    "ids = ['YH0040', 'YH0038', 'YH0033', 'OH0042', 'YH0031', 'OH0037', 'OH0034_1', 'OH0034_2', 'OH0029', 'OH0025_1', 'OH0025_2']\n",
    "#ids = ['YH0040']"
   ]
  },
  {
   "cell_type": "code",
   "execution_count": 15,
   "metadata": {},
   "outputs": [],
   "source": [
    "for id in ids:\n",
    "    # Load data\n",
    "\n",
    "    data_path = f'../data/ESK_data/body_kpts_{id}.npy'\n",
    "    #data_npy_path = \"../data/data_test_31.07.npy\"\n",
    "    data_npy = np.load(data_path)\n",
    "\n",
    "    df_test = pd.DataFrame()\n",
    "    df_test['time'] = np.array([time/30 for time in range(len(data_npy))])\n",
    "    for i in range(17):\n",
    "        df_point = pd.DataFrame(data_npy[:, i])\n",
    "        df_test[f'point_{i}'] = df_point[[0, 1, 2]].to_numpy().tolist()\n",
    "        df_test[f'point_{i}'] = [np.array(point) for point in df_test[f'point_{i}']]\n",
    "    df_test.rename(columns = {'point_0': 'nose', 'point_1': 'lefteye',\n",
    "                            'point_2': 'righteye', 'point_3': 'leftear', 'point_4': 'rightear',\n",
    "                            'point_5':'leftshoulder', 'point_6':'rightshoulder', \n",
    "                            'point_8':'rightelbow', 'point_7':'leftelbow', \n",
    "                            'point_10':'rightwrist', 'point_9':'leftwrist',\n",
    "                            'point_12':'righthip', 'point_11':'lefthip',\n",
    "                            'point_13': 'leftknee', 'point_14': 'rightknee',\n",
    "                            'point_15': 'leftfoot', 'point_16': 'rightfoot'}, inplace = True)\n",
    "\n",
    "    \"\"\"     joints = ['leftshoulder_flex', 'rightshoulder_flex', 'leftshoulder_abduc',\n",
    "        'rightshoulder_abduc', 'leftelbow_flex', 'rightelbow_flex',\n",
    "        'trunk_forward_flex', 'trunk_lateral_flex', 'trunk_rotation'] \"\"\"\n",
    "    df_test['neck'] = (df_test['leftshoulder'] + df_test['rightshoulder'])/2\n",
    "    df_test['hips'] = (df_test['lefthip'] + df_test['righthip'])/2\n",
    "\n",
    "    # Transform original coordinate to body coordinates\n",
    "\n",
    "    new_df_test = transform_points(df_test)\n",
    "\n",
    "    # Add joint angles\n",
    "\n",
    "    new_df_test['leftshoulder_flex'] = angle_plane(new_df_test, 'leftelbow', 'leftshoulder', 'sagittal')\n",
    "    new_df_test['rightshoulder_flex'] = angle_plane(new_df_test, 'rightelbow', 'rightshoulder', 'sagittal')\n",
    "    new_df_test['leftshoulder_rot'] = angle_plane(new_df_test, 'leftelbow', 'leftshoulder', 'transverse')\n",
    "    new_df_test['rightshoulder_rot'] = angle_plane(new_df_test, 'rightelbow', 'rightshoulder', 'transverse')\n",
    "\n",
    "    add_naive_joint_angles(new_df_test, 'leftelbow', 'leftshoulder', 'lefthip')\n",
    "    add_naive_joint_angles(new_df_test, 'rightelbow', 'rightshoulder', 'righthip')\n",
    "\n",
    "    add_naive_joint_angles(new_df_test, 'leftwrist', 'leftelbow', 'leftshoulder')\n",
    "    add_naive_joint_angles(new_df_test, 'rightwrist', 'rightelbow', 'rightshoulder')\n",
    "\n",
    "    new_df_test['trunk_fwd_flex'] = angle_plane(df_test, trunk=True)\n",
    "\n",
    "    new_df_test['trunk_lat_flex'] = angle_plane(new_df_test, trunk=True, plane = 'coronal')\n",
    "\n",
    "    # Add centroids\n",
    "\n",
    "    add_centroid(new_df_test, ['leftshoulder', 'leftelbow', 'leftwrist'], 'leftarm_centroid')\n",
    "    add_centroid(new_df_test, ['rightshoulder', 'rightelbow', 'rightwrist'], 'rightarm_centroid')\n",
    "    add_centroid(new_df_test, ['leftshoulder', 'leftelbow', 'leftwrist', 'rightshoulder', 'rightelbow', 'rightwrist'], 'arms_centroid')\n",
    "    add_centroid(new_df_test, ['leftshoulder', 'rightshoulder', 'righthip', 'lefthip'], 'trunk_centroid')\n",
    "\n",
    "    # Add velocities and acceleration (positions and angular)\n",
    "\n",
    "    keys = ['nose', 'lefteye', 'righteye', 'leftear', 'rightear',\n",
    "       'leftshoulder', 'rightshoulder', 'leftelbow', 'rightelbow',\n",
    "       'leftwrist', 'rightwrist', 'lefthip', 'righthip', 'leftknee',\n",
    "       'rightknee', 'leftfoot', 'rightfoot', 'neck', 'hips', \n",
    "       'leftarm_centroid', 'rightarm_centroid', 'arms_centroid', 'trunk_centroid']\n",
    "\n",
    "    joints = ['leftshoulder_flex', 'rightshoulder_flex', 'leftshoulder_rot', 'rightshoulder_rot',\n",
    "            'leftshoulder_angle', 'rightshoulder_angle', 'leftelbow_angle', 'rightelbow_angle', \n",
    "            'trunk_fwd_flex', 'trunk_lat_flex']\n",
    "\n",
    "    add_velocities_acceleration(new_df_test, keys, joints)\n",
    "\n",
    "    # Add the 3 components of body points/centroids separately\n",
    "    add_each_components(new_df_test, keys)\n",
    "\n",
    "    new_df_test.to_pickle(f'primary_features_{id}.pkl')"
   ]
  },
  {
   "cell_type": "markdown",
   "metadata": {},
   "source": [
    "## Now secondary features based on events"
   ]
  },
  {
   "cell_type": "markdown",
   "metadata": {},
   "source": [
    "### Events selection\n",
    "\n",
    "0 : Reach for thing when both feet are on ground\n",
    "\n",
    "1: Chop zucchini\n",
    "\n",
    "2 : Chop eggplant\n",
    "\n",
    "3 : Chop mushrooms \n",
    "\n",
    "4 : Chop peppers\n",
    "\n",
    "5 : Chop tomatoes\n",
    "\n",
    "6 : Add things to containers (pot, tup, plate)\n",
    "\n",
    "7 : Stirring\n",
    "\n",
    "8 : Add seasoning (not pepper)\n",
    "\n",
    "9 : Washing hands (9)\n",
    "\n",
    "n : ignore (10)\n",
    "\n",
    "u : Doing dishes (11)"
   ]
  },
  {
   "cell_type": "code",
   "execution_count": 44,
   "metadata": {},
   "outputs": [],
   "source": [
    "events = {'Reach to things':0, 'Chop zucchini':1, 'Chop eggplant':2, 'Chop mushrooms':3, 'Chop peppers':4, 'Chop tomatoes':5,\n",
    "          'Transfer things to containers':6, 'Stirring':7, 'Seasoning':8, 'Washing hands':9, 'Doing dishes':11}"
   ]
  },
  {
   "cell_type": "code",
   "execution_count": 46,
   "metadata": {},
   "outputs": [],
   "source": [
    "keys = ['nose', 'lefteye', 'righteye', 'leftear', 'rightear',\n",
    "       'leftshoulder', 'rightshoulder', 'leftelbow', 'rightelbow',\n",
    "       'leftwrist', 'rightwrist', 'lefthip', 'righthip', 'leftknee',\n",
    "       'rightknee', 'leftfoot', 'rightfoot', 'neck', 'hips', 'time', \n",
    "       'leftarm_centroid', 'rightarm_centroid', 'arms_centroid', 'trunk_centroid']\n",
    "\n",
    "for id in ids:\n",
    "    df = pd.read_pickle(f'../data/ESK_data/primary_features_{id}.pkl')\n",
    "    events_path = f'../data/ESK_data/{id}.npy'\n",
    "    data_events = np.load(events_path)\n",
    "    sec_features = pd.DataFrame()\n",
    "\n",
    "    colnames = df.drop(labels = keys, axis = 1).columns.values\n",
    "\n",
    "    for col in colnames:\n",
    "        columns = []\n",
    "        for key in events:\n",
    "            idx = np.where(data_events == events[key])\n",
    "            #Sometimes df and data_events do not have the same size\n",
    "            if len(df) != len(data_events):\n",
    "                idx = [id for id in idx[0] if id <= len(df)-1]\n",
    "            sum_stats = df[[col]].iloc[idx].describe()\n",
    "            sum_stats = sum_stats[col].to_dict()\n",
    "            sum_stats['RoM'] = sum_stats['max'] - sum_stats['min']\n",
    "            columns.append(sum_stats)\n",
    "        sec_features[col] = columns\n",
    "        \n",
    "    indexes = {i: event for i, event in zip(range(len(events)), events.keys())}\n",
    "    sec_features.index.name = 'Events'\n",
    "    sec_features.rename(index = indexes, inplace = True)\n",
    "    sec_features.to_pickle(f'secondary_features_{id}.pkl')"
   ]
  },
  {
   "cell_type": "markdown",
   "metadata": {},
   "source": []
  }
 ],
 "metadata": {
  "kernelspec": {
   "display_name": "skproject",
   "language": "python",
   "name": "python3"
  },
  "language_info": {
   "codemirror_mode": {
    "name": "ipython",
    "version": 3
   },
   "file_extension": ".py",
   "mimetype": "text/x-python",
   "name": "python",
   "nbconvert_exporter": "python",
   "pygments_lexer": "ipython3",
   "version": "3.11.4"
  },
  "orig_nbformat": 4
 },
 "nbformat": 4,
 "nbformat_minor": 2
}
