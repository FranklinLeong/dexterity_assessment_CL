{
 "cells": [
  {
   "cell_type": "code",
   "execution_count": 43,
   "metadata": {},
   "outputs": [],
   "source": [
    "#import sys\n",
    "#sys.path.append(\"/Users/changling/Documents/EPFL/MA4/Lab Immersion I/dext_asses/src\")  # path contains python_file.py\n",
    "\n",
    "import pandas as pd\n",
    "from utils import grouped, str2float"
   ]
  },
  {
   "cell_type": "code",
   "execution_count": 44,
   "metadata": {},
   "outputs": [
    {
     "name": "stdout",
     "output_type": "stream",
     "text": [
      "rgb_frameid     int64\n",
      "kp3ds          object\n",
      "kp2ds          object\n",
      "bboxes         object\n",
      "dtype: object\n"
     ]
    },
    {
     "data": {
      "text/html": [
       "<div>\n",
       "<style scoped>\n",
       "    .dataframe tbody tr th:only-of-type {\n",
       "        vertical-align: middle;\n",
       "    }\n",
       "\n",
       "    .dataframe tbody tr th {\n",
       "        vertical-align: top;\n",
       "    }\n",
       "\n",
       "    .dataframe thead th {\n",
       "        text-align: right;\n",
       "    }\n",
       "</style>\n",
       "<table border=\"1\" class=\"dataframe\">\n",
       "  <thead>\n",
       "    <tr style=\"text-align: right;\">\n",
       "      <th></th>\n",
       "      <th>rgb_frameid</th>\n",
       "      <th>kp3ds</th>\n",
       "      <th>kp2ds</th>\n",
       "      <th>bboxes</th>\n",
       "    </tr>\n",
       "  </thead>\n",
       "  <tbody>\n",
       "    <tr>\n",
       "      <th>0</th>\n",
       "      <td>5000</td>\n",
       "      <td>[[2433.527603034382, -1938.5729978558697, 65.7...</td>\n",
       "      <td>[[[1008.9975321765137, 101.44294880551615, 0.7...</td>\n",
       "      <td>[[743.9833984375, 0.0, 1234.8826904296875, 622...</td>\n",
       "    </tr>\n",
       "    <tr>\n",
       "      <th>1</th>\n",
       "      <td>5001</td>\n",
       "      <td>[[2446.607236443355, -1934.9092386957425, 67.5...</td>\n",
       "      <td>[[[999.6039120528574, 99.06533975351539, 0.758...</td>\n",
       "      <td>[[740.1781616210938, 0.0, 1231.525390625, 622....</td>\n",
       "    </tr>\n",
       "    <tr>\n",
       "      <th>2</th>\n",
       "      <td>5002</td>\n",
       "      <td>[[2460.826163175043, -1930.3790846162383, 69.3...</td>\n",
       "      <td>[[[992.6256386363831, 97.69814209614634, 0.727...</td>\n",
       "      <td>[[736.6728515625, 0.089996337890625, 1228.7199...</td>\n",
       "    </tr>\n",
       "    <tr>\n",
       "      <th>3</th>\n",
       "      <td>5003</td>\n",
       "      <td>[[2473.6984260388895, -1926.4497944254015, 73....</td>\n",
       "      <td>[[[985.1741546289431, 95.75803250340277, 0.752...</td>\n",
       "      <td>[[734.6681518554688, 0.10302734375, 1223.74499...</td>\n",
       "    </tr>\n",
       "    <tr>\n",
       "      <th>4</th>\n",
       "      <td>5004</td>\n",
       "      <td>[[2489.1893336653734, -1925.6113847420506, 73....</td>\n",
       "      <td>[[[978.2528523690814, 95.23409782663788, 0.765...</td>\n",
       "      <td>[[733.6686401367188, 0.173248291015625, 1216.8...</td>\n",
       "    </tr>\n",
       "  </tbody>\n",
       "</table>\n",
       "</div>"
      ],
      "text/plain": [
       "   rgb_frameid                                              kp3ds  \\\n",
       "0         5000  [[2433.527603034382, -1938.5729978558697, 65.7...   \n",
       "1         5001  [[2446.607236443355, -1934.9092386957425, 67.5...   \n",
       "2         5002  [[2460.826163175043, -1930.3790846162383, 69.3...   \n",
       "3         5003  [[2473.6984260388895, -1926.4497944254015, 73....   \n",
       "4         5004  [[2489.1893336653734, -1925.6113847420506, 73....   \n",
       "\n",
       "                                               kp2ds  \\\n",
       "0  [[[1008.9975321765137, 101.44294880551615, 0.7...   \n",
       "1  [[[999.6039120528574, 99.06533975351539, 0.758...   \n",
       "2  [[[992.6256386363831, 97.69814209614634, 0.727...   \n",
       "3  [[[985.1741546289431, 95.75803250340277, 0.752...   \n",
       "4  [[[978.2528523690814, 95.23409782663788, 0.765...   \n",
       "\n",
       "                                              bboxes  \n",
       "0  [[743.9833984375, 0.0, 1234.8826904296875, 622...  \n",
       "1  [[740.1781616210938, 0.0, 1231.525390625, 622....  \n",
       "2  [[736.6728515625, 0.089996337890625, 1228.7199...  \n",
       "3  [[734.6681518554688, 0.10302734375, 1223.74499...  \n",
       "4  [[733.6686401367188, 0.173248291015625, 1216.8...  "
      ]
     },
     "execution_count": 44,
     "metadata": {},
     "output_type": "execute_result"
    }
   ],
   "source": [
    "data_path = \"../data/small_data/pose_saved.csv\"\n",
    "data = pd.read_csv(data_path)\n",
    "print(data.dtypes)\n",
    "data.head()"
   ]
  },
  {
   "cell_type": "markdown",
   "metadata": {},
   "source": [
    "### Let's only take the first two columns\n"
   ]
  },
  {
   "cell_type": "code",
   "execution_count": 45,
   "metadata": {},
   "outputs": [
    {
     "data": {
      "text/html": [
       "<div>\n",
       "<style scoped>\n",
       "    .dataframe tbody tr th:only-of-type {\n",
       "        vertical-align: middle;\n",
       "    }\n",
       "\n",
       "    .dataframe tbody tr th {\n",
       "        vertical-align: top;\n",
       "    }\n",
       "\n",
       "    .dataframe thead th {\n",
       "        text-align: right;\n",
       "    }\n",
       "</style>\n",
       "<table border=\"1\" class=\"dataframe\">\n",
       "  <thead>\n",
       "    <tr style=\"text-align: right;\">\n",
       "      <th></th>\n",
       "      <th>rgb_frameid</th>\n",
       "      <th>kp3ds</th>\n",
       "    </tr>\n",
       "  </thead>\n",
       "  <tbody>\n",
       "    <tr>\n",
       "      <th>0</th>\n",
       "      <td>5000</td>\n",
       "      <td>[[2433.527603034382, -1938.5729978558697, 65.7...</td>\n",
       "    </tr>\n",
       "    <tr>\n",
       "      <th>1</th>\n",
       "      <td>5001</td>\n",
       "      <td>[[2446.607236443355, -1934.9092386957425, 67.5...</td>\n",
       "    </tr>\n",
       "    <tr>\n",
       "      <th>2</th>\n",
       "      <td>5002</td>\n",
       "      <td>[[2460.826163175043, -1930.3790846162383, 69.3...</td>\n",
       "    </tr>\n",
       "    <tr>\n",
       "      <th>3</th>\n",
       "      <td>5003</td>\n",
       "      <td>[[2473.6984260388895, -1926.4497944254015, 73....</td>\n",
       "    </tr>\n",
       "    <tr>\n",
       "      <th>4</th>\n",
       "      <td>5004</td>\n",
       "      <td>[[2489.1893336653734, -1925.6113847420506, 73....</td>\n",
       "    </tr>\n",
       "  </tbody>\n",
       "</table>\n",
       "</div>"
      ],
      "text/plain": [
       "   rgb_frameid                                              kp3ds\n",
       "0         5000  [[2433.527603034382, -1938.5729978558697, 65.7...\n",
       "1         5001  [[2446.607236443355, -1934.9092386957425, 67.5...\n",
       "2         5002  [[2460.826163175043, -1930.3790846162383, 69.3...\n",
       "3         5003  [[2473.6984260388895, -1926.4497944254015, 73....\n",
       "4         5004  [[2489.1893336653734, -1925.6113847420506, 73...."
      ]
     },
     "execution_count": 45,
     "metadata": {},
     "output_type": "execute_result"
    }
   ],
   "source": [
    "df = data[['rgb_frameid', 'kp3ds']]\n",
    "df.head()"
   ]
  },
  {
   "cell_type": "code",
   "execution_count": 46,
   "metadata": {},
   "outputs": [
    {
     "name": "stdout",
     "output_type": "stream",
     "text": [
      "<class 'str'>\n"
     ]
    },
    {
     "data": {
      "text/plain": [
       "'[[2433.527603034382, -1938.5729978558697, 65.77853319876616, 0.715919840335846], [2455.1936794872177, -1931.8907779942238, 97.20523561103043, 0.6419889330863953], [2413.1285141606477, -1915.3594788777505, 100.405452670196, 0.6129101574420929], [2553.3050698424627, -1851.7950717623419, 114.90635783137866, 0.7434812635183334], [2406.47320246087, -1791.7937153377102, 130.30197906455479, 0.58548554033041], [2645.352619537392, -1677.0320842443841, -34.92217267652428, 0.721489417552948], [2305.953153691892, -1832.9165705828136, -22.7491032373318, 0.675788402557373], [2713.5425084514063, -1596.1945567660148, -283.31397363860276, 0.6877377976973852], [2205.742184616739, -2043.9587716844408, -78.7145570247363, 0.6339661717414856], [2746.769581107897, -1777.5664535076626, -405.71990057299956, 0.6417463049292564], [2196.6960493973734, -2288.6940364719085, -26.30439482351236, 0.7618403911590577], [2601.681535535075, -1730.8660615202673, -554.1895844242209, 0.642460686819894], [2415.360061812779, -1740.6648141592275, -579.5934689100592, 0.6341153298105512], [2679.9952724415434, -1787.690377703567, -936.1897348336004, 0.6932121217250824], [2400.8627281541926, -1778.5203763504858, -1006.0502234206278, 0.6673075641904559], [2756.2899011781155, -1799.6261441022816, -1353.4655488707501, 0.7121451844771703], [2414.4655146949895, -1684.1135292174695, -1360.2075646326068, 0.7013692657152811]]'"
      ]
     },
     "execution_count": 46,
     "metadata": {},
     "output_type": "execute_result"
    }
   ],
   "source": [
    "print(type(df.kp3ds[0]))\n",
    "df.kp3ds[0]"
   ]
  },
  {
   "cell_type": "markdown",
   "metadata": {},
   "source": [
    "### Let's convert the string into vector"
   ]
  },
  {
   "cell_type": "code",
   "execution_count": 47,
   "metadata": {},
   "outputs": [
    {
     "name": "stderr",
     "output_type": "stream",
     "text": [
      "/var/folders/_q/5gxcvv9j1dg_pzh17qyfbkk40000gn/T/ipykernel_57352/122007128.py:1: SettingWithCopyWarning: \n",
      "A value is trying to be set on a copy of a slice from a DataFrame.\n",
      "Try using .loc[row_indexer,col_indexer] = value instead\n",
      "\n",
      "See the caveats in the documentation: https://pandas.pydata.org/pandas-docs/stable/user_guide/indexing.html#returning-a-view-versus-a-copy\n",
      "  df['kp3ds'] = df['kp3ds'].apply(str2float)\n"
     ]
    }
   ],
   "source": [
    "df['kp3ds'] = df['kp3ds'].apply(str2float)"
   ]
  },
  {
   "cell_type": "code",
   "execution_count": 48,
   "metadata": {},
   "outputs": [
    {
     "data": {
      "text/html": [
       "<div>\n",
       "<style scoped>\n",
       "    .dataframe tbody tr th:only-of-type {\n",
       "        vertical-align: middle;\n",
       "    }\n",
       "\n",
       "    .dataframe tbody tr th {\n",
       "        vertical-align: top;\n",
       "    }\n",
       "\n",
       "    .dataframe thead th {\n",
       "        text-align: right;\n",
       "    }\n",
       "</style>\n",
       "<table border=\"1\" class=\"dataframe\">\n",
       "  <thead>\n",
       "    <tr style=\"text-align: right;\">\n",
       "      <th></th>\n",
       "      <th>rgb_frameid</th>\n",
       "      <th>kp3ds</th>\n",
       "    </tr>\n",
       "  </thead>\n",
       "  <tbody>\n",
       "    <tr>\n",
       "      <th>0</th>\n",
       "      <td>5000</td>\n",
       "      <td>[[2433.527603034382, -1938.5729978558697, 65.7...</td>\n",
       "    </tr>\n",
       "    <tr>\n",
       "      <th>1</th>\n",
       "      <td>5001</td>\n",
       "      <td>[[2446.607236443355, -1934.9092386957425, 67.5...</td>\n",
       "    </tr>\n",
       "    <tr>\n",
       "      <th>2</th>\n",
       "      <td>5002</td>\n",
       "      <td>[[2460.826163175043, -1930.3790846162383, 69.3...</td>\n",
       "    </tr>\n",
       "    <tr>\n",
       "      <th>3</th>\n",
       "      <td>5003</td>\n",
       "      <td>[[2473.6984260388895, -1926.4497944254015, 73....</td>\n",
       "    </tr>\n",
       "    <tr>\n",
       "      <th>4</th>\n",
       "      <td>5004</td>\n",
       "      <td>[[2489.1893336653734, -1925.6113847420506, 73....</td>\n",
       "    </tr>\n",
       "  </tbody>\n",
       "</table>\n",
       "</div>"
      ],
      "text/plain": [
       "   rgb_frameid                                              kp3ds\n",
       "0         5000  [[2433.527603034382, -1938.5729978558697, 65.7...\n",
       "1         5001  [[2446.607236443355, -1934.9092386957425, 67.5...\n",
       "2         5002  [[2460.826163175043, -1930.3790846162383, 69.3...\n",
       "3         5003  [[2473.6984260388895, -1926.4497944254015, 73....\n",
       "4         5004  [[2489.1893336653734, -1925.6113847420506, 73...."
      ]
     },
     "execution_count": 48,
     "metadata": {},
     "output_type": "execute_result"
    }
   ],
   "source": [
    "df.head()"
   ]
  },
  {
   "cell_type": "code",
   "execution_count": null,
   "metadata": {},
   "outputs": [],
   "source": []
  }
 ],
 "metadata": {
  "kernelspec": {
   "display_name": "skproject",
   "language": "python",
   "name": "python3"
  },
  "language_info": {
   "codemirror_mode": {
    "name": "ipython",
    "version": 3
   },
   "file_extension": ".py",
   "mimetype": "text/x-python",
   "name": "python",
   "nbconvert_exporter": "python",
   "pygments_lexer": "ipython3",
   "version": "3.11.4"
  },
  "orig_nbformat": 4
 },
 "nbformat": 4,
 "nbformat_minor": 2
}
